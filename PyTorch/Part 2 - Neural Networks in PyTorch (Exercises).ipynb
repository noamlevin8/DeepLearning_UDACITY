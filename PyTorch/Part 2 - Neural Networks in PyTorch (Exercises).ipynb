{
 "cells": [
  {
   "cell_type": "markdown",
   "metadata": {},
   "source": [
    "# Neural networks with PyTorch\n",
    "\n",
    "Deep learning networks tend to be massive with dozens or hundreds of layers, that's where the term \"deep\" comes from. You can build one of these deep networks using only weight matrices as we did in the previous notebook, but in general it's very cumbersome and difficult to implement. PyTorch has a nice module `nn` that provides a nice way to efficiently build large neural networks."
   ]
  },
  {
   "cell_type": "code",
   "execution_count": 6,
   "metadata": {
    "collapsed": true,
    "ExecuteTime": {
     "end_time": "2024-12-31T18:42:17.172220Z",
     "start_time": "2024-12-31T18:42:17.141166500Z"
    }
   },
   "outputs": [],
   "source": [
    "# Import necessary packages\n",
    "\n",
    "%matplotlib inline\n",
    "%config InlineBackend.figure_format = 'retina'\n",
    "\n",
    "import numpy as np\n",
    "import torch\n",
    "\n",
    "import helper\n",
    "\n",
    "import matplotlib.pyplot as plt"
   ]
  },
  {
   "cell_type": "markdown",
   "metadata": {},
   "source": [
    "\n",
    "Now we're going to build a larger network that can solve a (formerly) difficult problem, identifying text in an image. Here we'll use the MNIST dataset which consists of greyscale handwritten digits. Each image is 28x28 pixels, you can see a sample below\n",
    "\n",
    "<img src='assets/mnist.png'>\n",
    "\n",
    "Our goal is to build a neural network that can take one of these images and predict the digit in the image.\n",
    "\n",
    "First up, we need to get our dataset. This is provided through the `torchvision` package. The code below will download the MNIST dataset, then create training and test datasets for us. Don't worry too much about the details here, you'll learn more about this later."
   ]
  },
  {
   "cell_type": "code",
   "execution_count": 7,
   "metadata": {
    "ExecuteTime": {
     "end_time": "2024-12-31T18:42:21.535553300Z",
     "start_time": "2024-12-31T18:42:21.438482700Z"
    }
   },
   "outputs": [],
   "source": [
    "# The MNIST datasets are hosted on yann.lecun.com that has moved under CloudFlare protection\n",
    "# Run this script to enable the datasets download\n",
    "# Reference: https://github.com/pytorch/vision/issues/1938\n",
    "\n",
    "from six.moves import urllib\n",
    "opener = urllib.request.build_opener()\n",
    "opener.addheaders = [('User-agent', 'Mozilla/5.0')]\n",
    "urllib.request.install_opener(opener)"
   ]
  },
  {
   "cell_type": "code",
   "execution_count": 8,
   "metadata": {
    "collapsed": true,
    "ExecuteTime": {
     "end_time": "2024-12-31T18:42:47.901995800Z",
     "start_time": "2024-12-31T18:42:24.917936Z"
    }
   },
   "outputs": [
    {
     "name": "stdout",
     "output_type": "stream",
     "text": [
      "Downloading http://yann.lecun.com/exdb/mnist/train-images-idx3-ubyte.gz\n",
      "Failed to download (trying next):\n",
      "HTTP Error 403: Forbidden\n",
      "\n",
      "Downloading https://ossci-datasets.s3.amazonaws.com/mnist/train-images-idx3-ubyte.gz\n",
      "Downloading https://ossci-datasets.s3.amazonaws.com/mnist/train-images-idx3-ubyte.gz to MNIST_data/MNIST\\raw\\train-images-idx3-ubyte.gz\n"
     ]
    },
    {
     "name": "stderr",
     "output_type": "stream",
     "text": [
      "100.0%\n"
     ]
    },
    {
     "name": "stdout",
     "output_type": "stream",
     "text": [
      "Extracting MNIST_data/MNIST\\raw\\train-images-idx3-ubyte.gz to MNIST_data/MNIST\\raw\n",
      "\n",
      "Downloading http://yann.lecun.com/exdb/mnist/train-labels-idx1-ubyte.gz\n",
      "Failed to download (trying next):\n",
      "HTTP Error 403: Forbidden\n",
      "\n",
      "Downloading https://ossci-datasets.s3.amazonaws.com/mnist/train-labels-idx1-ubyte.gz\n",
      "Downloading https://ossci-datasets.s3.amazonaws.com/mnist/train-labels-idx1-ubyte.gz to MNIST_data/MNIST\\raw\\train-labels-idx1-ubyte.gz\n"
     ]
    },
    {
     "name": "stderr",
     "output_type": "stream",
     "text": [
      "100.0%\n"
     ]
    },
    {
     "name": "stdout",
     "output_type": "stream",
     "text": [
      "Extracting MNIST_data/MNIST\\raw\\train-labels-idx1-ubyte.gz to MNIST_data/MNIST\\raw\n",
      "\n",
      "Downloading http://yann.lecun.com/exdb/mnist/t10k-images-idx3-ubyte.gz\n",
      "Failed to download (trying next):\n",
      "HTTP Error 403: Forbidden\n",
      "\n",
      "Downloading https://ossci-datasets.s3.amazonaws.com/mnist/t10k-images-idx3-ubyte.gz\n",
      "Downloading https://ossci-datasets.s3.amazonaws.com/mnist/t10k-images-idx3-ubyte.gz to MNIST_data/MNIST\\raw\\t10k-images-idx3-ubyte.gz\n"
     ]
    },
    {
     "name": "stderr",
     "output_type": "stream",
     "text": [
      "100.0%\n"
     ]
    },
    {
     "name": "stdout",
     "output_type": "stream",
     "text": [
      "Extracting MNIST_data/MNIST\\raw\\t10k-images-idx3-ubyte.gz to MNIST_data/MNIST\\raw\n",
      "\n",
      "Downloading http://yann.lecun.com/exdb/mnist/t10k-labels-idx1-ubyte.gz\n",
      "Failed to download (trying next):\n",
      "HTTP Error 403: Forbidden\n",
      "\n",
      "Downloading https://ossci-datasets.s3.amazonaws.com/mnist/t10k-labels-idx1-ubyte.gz\n",
      "Downloading https://ossci-datasets.s3.amazonaws.com/mnist/t10k-labels-idx1-ubyte.gz to MNIST_data/MNIST\\raw\\t10k-labels-idx1-ubyte.gz\n"
     ]
    },
    {
     "name": "stderr",
     "output_type": "stream",
     "text": [
      "100.0%"
     ]
    },
    {
     "name": "stdout",
     "output_type": "stream",
     "text": [
      "Extracting MNIST_data/MNIST\\raw\\t10k-labels-idx1-ubyte.gz to MNIST_data/MNIST\\raw\n"
     ]
    },
    {
     "name": "stderr",
     "output_type": "stream",
     "text": [
      "\n"
     ]
    }
   ],
   "source": [
    "### Run this cell\n",
    "\n",
    "from torchvision import datasets, transforms\n",
    "\n",
    "# Define a transform to normalize the data\n",
    "transform = transforms.Compose([transforms.ToTensor(),\n",
    "                              transforms.Normalize((0.5,), (0.5,)),\n",
    "                              ])\n",
    "\n",
    "# Download and load the training data\n",
    "trainset = datasets.MNIST('MNIST_data/', download=True, train=True, transform=transform)\n",
    "trainloader = torch.utils.data.DataLoader(trainset, batch_size=64, shuffle=True)"
   ]
  },
  {
   "cell_type": "markdown",
   "metadata": {},
   "source": [
    "We have the training data loaded into `trainloader` and we make that an iterator with `iter(trainloader)`. Later, we'll use this to loop through the dataset for training, like\n",
    "\n",
    "```python\n",
    "for image, label in trainloader:\n",
    "    ## do things with images and labels\n",
    "```\n",
    "\n",
    "You'll notice I created the `trainloader` with a batch size of 64, and `shuffle=True`. The batch size is the number of images we get in one iteration from the data loader and pass through our network, often called a *batch*. And `shuffle=True` tells it to shuffle the dataset every time we start going through the data loader again. But here I'm just grabbing the first batch so we can check out the data. We can see below that `images` is just a tensor with size `(64, 1, 28, 28)`. So, 64 images per batch, 1 color channel, and 28x28 images."
   ]
  },
  {
   "cell_type": "code",
   "execution_count": 9,
   "metadata": {
    "collapsed": true,
    "ExecuteTime": {
     "end_time": "2024-12-31T18:44:15.665367800Z",
     "start_time": "2024-12-31T18:44:14.133778Z"
    }
   },
   "outputs": [
    {
     "name": "stdout",
     "output_type": "stream",
     "text": [
      "<class 'torch.Tensor'>\n",
      "torch.Size([64, 1, 28, 28])\n",
      "torch.Size([64])\n"
     ]
    }
   ],
   "source": [
    "dataiter = iter(trainloader)\n",
    "images, labels = next(dataiter)\n",
    "print(type(images))\n",
    "print(images.shape)\n",
    "print(labels.shape)"
   ]
  },
  {
   "cell_type": "markdown",
   "metadata": {},
   "source": [
    "This is what one of the images looks like. "
   ]
  },
  {
   "cell_type": "code",
   "execution_count": 10,
   "metadata": {
    "collapsed": true,
    "ExecuteTime": {
     "end_time": "2024-12-31T18:44:27.982746800Z",
     "start_time": "2024-12-31T18:44:26.837847800Z"
    }
   },
   "outputs": [
    {
     "data": {
      "text/plain": "<Figure size 640x480 with 1 Axes>",
      "image/png": "[encoded data removed]"
     },
     "metadata": {
      "image/png": {
       "width": 417,
       "height": 413
      }
     },
     "output_type": "display_data"
    }
   ],
   "source": [
    "plt.imshow(images[1].numpy().squeeze(), cmap='Greys_r');"
   ]
  },
  {
   "cell_type": "markdown",
   "metadata": {},
   "source": [
    "First, let's try to build a simple network for this dataset using weight matrices and matrix multiplications. Then, we'll see how to do it using PyTorch's `nn` module which provides a much more convenient and powerful method for defining network architectures.\n",
    "\n",
    "The networks you've seen so far are called *fully-connected* or *dense* networks. Each unit in one layer is connected to each unit in the next layer. In fully-connected networks, the input to each layer must be a one-dimensional vector (which can be stacked into a 2D tensor as a batch of multiple examples). However, our images are 28x28 2D tensors, so we need to convert them into 1D vectors. Thinking about sizes, we need to convert the batch of images with shape `(64, 1, 28, 28)` to a have a shape of `(64, 784)`, 784 is 28 times 28. This is typically called *flattening*, we flattened the 2D images into 1D vectors.\n",
    "\n",
    "Previously you built a network with one output unit. Here we need 10 output units, one for each digit. We want our network to predict the digit shown in an image, so what we'll do is calculate probabilities that the image is of any one digit or class. This ends up being a discrete probability distribution over the classes (digits) that tells us the most likely class for the image. That means we need 10 output units for the 10 classes (digits). We'll see how to convert the network output into a probability distribution next.\n",
    "\n",
    "> **Exercise:** Flatten the batch of images `images`. Then build a multi-layer network with 784 input units, 256 hidden units, and 10 output units using random tensors for the weights and biases. For now, use a sigmoid activation for the hidden layer. Leave the output layer without an activation, we'll add one that gives us a probability distribution next."
   ]
  },
  {
   "cell_type": "code",
   "execution_count": 12,
   "metadata": {
    "collapsed": true,
    "ExecuteTime": {
     "end_time": "2024-12-31T20:57:38.407697200Z",
     "start_time": "2024-12-31T20:57:37.542260100Z"
    }
   },
   "outputs": [
    {
     "name": "stdout",
     "output_type": "stream",
     "text": [
      "tensor([[9.9999e-01, 8.9640e-01, 9.8442e-01, 7.6099e-03, 4.9384e-10, 1.0000e+00,\n",
      "         7.1974e-07, 9.9930e-01, 1.0000e+00, 3.1858e-09],\n",
      "        [1.0000e+00, 2.2923e-01, 9.7894e-01, 1.2388e-06, 2.2530e-15, 1.0000e+00,\n",
      "         1.7737e-01, 1.0000e+00, 9.9855e-01, 6.3315e-08],\n",
      "        [9.9775e-01, 7.6801e-01, 6.9691e-01, 1.9401e-01, 2.9186e-15, 1.0000e+00,\n",
      "         2.8014e-01, 8.5361e-01, 9.9165e-01, 3.0996e-07],\n",
      "        [9.4698e-01, 9.9999e-01, 9.9819e-01, 3.9644e-04, 3.1718e-11, 1.0000e+00,\n",
      "         4.4932e-01, 9.9986e-01, 8.9689e-01, 4.3746e-07],\n",
      "        [9.9973e-01, 7.1573e-01, 7.9743e-01, 3.4018e-03, 1.0455e-10, 1.0000e+00,\n",
      "         7.5108e-01, 7.8572e-03, 6.7941e-01, 3.0360e-11],\n",
      "        [9.7334e-01, 9.9981e-01, 9.9998e-01, 1.1010e-03, 1.4010e-10, 9.9208e-01,\n",
      "         5.1634e-04, 1.1441e-03, 9.8793e-01, 2.6326e-14],\n",
      "        [9.9213e-01, 9.9589e-01, 2.2227e-03, 1.7404e-04, 5.6332e-09, 1.0000e+00,\n",
      "         1.5786e-03, 9.9973e-01, 9.9996e-01, 9.5371e-13],\n",
      "        [9.9995e-01, 1.0000e+00, 9.9680e-01, 4.1037e-08, 2.3805e-14, 9.9968e-01,\n",
      "         8.8598e-01, 1.0000e+00, 9.8979e-01, 5.5822e-07],\n",
      "        [9.9989e-01, 9.9920e-01, 9.9997e-01, 6.6683e-07, 3.8924e-11, 1.0000e+00,\n",
      "         8.1840e-05, 9.0004e-01, 9.9597e-01, 1.4195e-13],\n",
      "        [9.9966e-01, 9.9799e-01, 4.2722e-01, 1.8237e-02, 4.8462e-08, 1.0000e+00,\n",
      "         1.0406e-07, 4.2300e-01, 9.9620e-01, 1.7446e-03],\n",
      "        [9.9425e-01, 6.7645e-01, 9.7321e-01, 5.2870e-03, 2.6925e-13, 1.0000e+00,\n",
      "         9.9542e-01, 9.9999e-01, 6.8502e-01, 7.1057e-09],\n",
      "        [9.9232e-01, 4.8433e-03, 9.1625e-01, 2.3435e-05, 2.2161e-10, 1.0000e+00,\n",
      "         1.0000e+00, 6.4799e-01, 1.1098e-01, 2.6217e-09],\n",
      "        [9.9780e-01, 2.8285e-02, 3.7223e-03, 1.5997e-04, 3.7829e-07, 1.0000e+00,\n",
      "         6.0980e-06, 9.8156e-01, 9.8733e-01, 1.2346e-09],\n",
      "        [9.1955e-01, 3.8200e-02, 1.0000e+00, 3.1800e-09, 9.5704e-14, 1.0000e+00,\n",
      "         1.2870e-04, 9.8605e-01, 9.9994e-01, 6.2066e-11],\n",
      "        [9.9999e-01, 2.9930e-01, 6.9319e-01, 2.0849e-04, 1.3906e-07, 1.0000e+00,\n",
      "         9.3345e-01, 4.4596e-01, 9.9998e-01, 2.5050e-07],\n",
      "        [9.5305e-01, 9.9914e-01, 1.0000e+00, 2.7169e-04, 5.0146e-12, 1.0000e+00,\n",
      "         3.9147e-03, 6.2941e-01, 9.9997e-01, 2.5927e-13],\n",
      "        [7.8229e-01, 9.8428e-01, 9.9972e-01, 3.2321e-07, 3.4193e-13, 1.0000e+00,\n",
      "         7.0670e-03, 3.8469e-01, 9.9147e-01, 3.7313e-13],\n",
      "        [9.9930e-01, 1.4136e-02, 6.7251e-02, 8.6273e-05, 4.7012e-06, 1.0000e+00,\n",
      "         1.4366e-02, 4.1733e-01, 9.9899e-01, 2.4810e-07],\n",
      "        [9.9937e-01, 9.4406e-02, 7.1840e-01, 3.4626e-03, 3.4051e-12, 1.0000e+00,\n",
      "         8.5911e-03, 9.5361e-01, 9.3223e-01, 1.8817e-09],\n",
      "        [9.2569e-01, 9.9781e-01, 7.6284e-01, 4.4301e-06, 3.8293e-10, 1.0000e+00,\n",
      "         1.1072e-04, 9.7582e-01, 1.5264e-02, 4.9468e-06],\n",
      "        [7.1520e-01, 1.8320e-02, 9.4925e-01, 4.3094e-08, 4.5382e-13, 1.0000e+00,\n",
      "         3.6324e-04, 4.1527e-01, 9.1127e-01, 1.2949e-08],\n",
      "        [9.9982e-01, 2.4175e-01, 9.9939e-01, 1.0843e-06, 2.9956e-11, 9.9979e-01,\n",
      "         5.9730e-01, 9.9924e-01, 1.0507e-01, 3.1522e-09],\n",
      "        [9.7591e-01, 9.9998e-01, 9.9684e-01, 6.6477e-06, 2.8130e-14, 1.0000e+00,\n",
      "         1.1729e-04, 1.0000e+00, 9.9999e-01, 2.6903e-07],\n",
      "        [9.9998e-01, 7.0254e-01, 9.9931e-01, 4.4399e-05, 2.8310e-12, 1.0000e+00,\n",
      "         1.1132e-04, 9.9999e-01, 1.0000e+00, 7.5765e-05],\n",
      "        [9.9802e-01, 3.8176e-01, 1.6568e-02, 1.3454e-03, 1.1423e-13, 1.0000e+00,\n",
      "         1.2432e-01, 9.9993e-01, 4.7555e-01, 4.6254e-12],\n",
      "        [1.0000e+00, 7.3104e-01, 1.0000e+00, 1.1983e-03, 1.0079e-11, 1.0000e+00,\n",
      "         1.9753e-05, 9.9999e-01, 1.0000e+00, 1.1514e-08],\n",
      "        [9.2603e-01, 8.5093e-01, 2.0784e-01, 4.8783e-06, 1.0113e-14, 1.0000e+00,\n",
      "         4.6244e-05, 9.9934e-01, 9.2940e-01, 5.8481e-09],\n",
      "        [9.0460e-01, 9.3514e-01, 9.8855e-01, 8.1098e-02, 3.8238e-15, 1.0000e+00,\n",
      "         1.4465e-06, 1.0000e+00, 9.9921e-01, 4.5302e-09],\n",
      "        [1.0000e+00, 1.2689e-06, 9.9651e-01, 2.6554e-01, 2.3109e-08, 1.0000e+00,\n",
      "         1.6475e-02, 8.0822e-01, 9.0651e-01, 6.8432e-10],\n",
      "        [1.0000e+00, 1.0361e-01, 4.1454e-01, 2.9179e-07, 1.8233e-10, 1.0000e+00,\n",
      "         2.1282e-04, 9.6184e-01, 9.9887e-01, 4.5867e-09],\n",
      "        [9.9993e-01, 8.4934e-05, 2.5088e-03, 2.0727e-01, 2.2495e-14, 1.0000e+00,\n",
      "         9.9669e-01, 9.1374e-01, 8.9227e-01, 7.1827e-11],\n",
      "        [9.9992e-01, 9.7494e-01, 9.9540e-01, 2.6407e-05, 3.7310e-12, 1.0000e+00,\n",
      "         3.3445e-01, 1.0000e+00, 9.9998e-01, 3.3917e-06],\n",
      "        [9.9985e-01, 1.9106e-04, 5.7940e-02, 2.4240e-06, 7.5062e-08, 1.0000e+00,\n",
      "         8.5538e-01, 7.9524e-01, 9.2596e-01, 2.9424e-10],\n",
      "        [1.0000e+00, 4.2188e-04, 9.9835e-01, 1.5972e-08, 4.4805e-13, 1.0000e+00,\n",
      "         3.1420e-03, 9.7664e-01, 9.5962e-01, 2.1625e-11],\n",
      "        [9.9972e-01, 9.8132e-01, 8.5304e-01, 8.5530e-03, 1.4976e-07, 1.0000e+00,\n",
      "         2.5218e-06, 9.9800e-01, 8.3368e-02, 1.5295e-05],\n",
      "        [9.8770e-01, 2.3247e-05, 5.1738e-01, 1.2859e-05, 8.4784e-08, 1.0000e+00,\n",
      "         9.6552e-02, 7.1589e-01, 9.9998e-01, 1.0618e-08],\n",
      "        [1.0000e+00, 8.3486e-04, 6.2003e-01, 1.5644e-02, 3.4497e-13, 1.0000e+00,\n",
      "         3.8332e-03, 1.0000e+00, 8.4731e-01, 2.1052e-07],\n",
      "        [9.9996e-01, 9.9945e-01, 8.8447e-01, 3.3505e-05, 2.8611e-15, 1.0000e+00,\n",
      "         1.8218e-03, 1.0000e+00, 9.9920e-01, 3.9068e-10],\n",
      "        [2.5508e-02, 8.9704e-01, 3.6331e-01, 2.4607e-05, 2.2983e-10, 1.0000e+00,\n",
      "         8.4915e-07, 1.2807e-03, 9.6792e-01, 2.9832e-11],\n",
      "        [9.9995e-01, 9.3124e-01, 9.2248e-01, 2.6565e-05, 6.6118e-10, 1.0000e+00,\n",
      "         4.2929e-04, 5.1251e-01, 9.9998e-01, 2.7042e-08],\n",
      "        [1.0000e+00, 1.8636e-02, 9.9667e-01, 1.6073e-05, 3.0113e-15, 1.0000e+00,\n",
      "         1.2963e-06, 9.8592e-01, 9.9964e-01, 2.4937e-11],\n",
      "        [9.8889e-01, 5.5059e-01, 9.7564e-01, 1.5405e-03, 2.8893e-14, 1.0000e+00,\n",
      "         3.9594e-03, 9.9999e-01, 9.9871e-01, 7.0691e-09],\n",
      "        [7.3936e-01, 3.3840e-03, 8.0593e-01, 2.1593e-04, 1.5518e-11, 1.0000e+00,\n",
      "         1.9814e-04, 9.4235e-01, 9.9992e-01, 9.8119e-07],\n",
      "        [9.9938e-01, 1.6200e-01, 9.8450e-01, 8.6436e-08, 1.1495e-09, 9.9999e-01,\n",
      "         4.9408e-04, 1.3084e-01, 9.9995e-01, 6.8634e-12],\n",
      "        [8.9544e-01, 9.9999e-01, 9.9999e-01, 4.0265e-02, 4.9826e-11, 1.0000e+00,\n",
      "         9.4357e-08, 9.9123e-01, 9.7852e-01, 2.6178e-12],\n",
      "        [9.8985e-01, 7.8418e-01, 9.6842e-01, 3.0322e-05, 2.6467e-13, 1.0000e+00,\n",
      "         1.1349e-03, 1.0000e+00, 9.9999e-01, 6.2963e-07],\n",
      "        [9.9998e-01, 6.9019e-04, 9.9279e-01, 1.8026e-05, 1.4991e-13, 1.0000e+00,\n",
      "         1.8748e-06, 9.9133e-01, 9.9990e-01, 1.2728e-13],\n",
      "        [9.5380e-01, 9.2835e-01, 9.8473e-01, 1.5073e-07, 1.9159e-11, 1.0000e+00,\n",
      "         3.8798e-02, 3.3123e-01, 9.8049e-01, 6.5399e-09],\n",
      "        [1.0000e+00, 9.9890e-01, 1.0000e+00, 5.2281e-01, 1.7655e-11, 1.0000e+00,\n",
      "         4.0692e-04, 9.9984e-01, 9.9995e-01, 9.2692e-06],\n",
      "        [8.5883e-01, 7.7372e-01, 2.4541e-01, 9.8809e-01, 1.7715e-12, 9.9995e-01,\n",
      "         9.3344e-03, 9.9998e-01, 9.9966e-01, 2.3985e-05],\n",
      "        [9.7791e-01, 2.3481e-05, 9.9999e-01, 4.5430e-07, 1.5023e-05, 1.0000e+00,\n",
      "         5.4120e-03, 1.5374e-01, 9.9970e-01, 5.9735e-15],\n",
      "        [1.0000e+00, 2.8848e-02, 9.9977e-01, 6.1516e-07, 3.7831e-11, 9.9960e-01,\n",
      "         4.9965e-02, 9.9998e-01, 1.0000e+00, 2.3474e-12],\n",
      "        [9.9961e-01, 9.9992e-01, 9.9988e-01, 8.8763e-07, 8.1858e-13, 4.7908e-01,\n",
      "         6.6322e-03, 3.3412e-01, 9.9903e-01, 1.5808e-09],\n",
      "        [9.9999e-01, 2.0026e-05, 9.9981e-01, 1.0653e-04, 6.5909e-17, 9.9992e-01,\n",
      "         1.2589e-01, 9.6409e-01, 9.9990e-01, 4.1862e-07],\n",
      "        [9.8653e-01, 9.9381e-01, 9.9782e-01, 3.4258e-06, 3.6632e-11, 1.0000e+00,\n",
      "         1.1344e-05, 8.8557e-01, 5.6191e-01, 6.2049e-06],\n",
      "        [1.0000e+00, 7.9641e-01, 9.9927e-01, 2.5670e-07, 5.6170e-11, 1.0000e+00,\n",
      "         4.3182e-04, 9.9770e-01, 9.9998e-01, 2.3734e-11],\n",
      "        [9.9996e-01, 1.2761e-03, 9.7077e-01, 8.6154e-02, 9.2637e-15, 9.9999e-01,\n",
      "         3.8470e-04, 9.9853e-01, 1.0000e+00, 2.7910e-08],\n",
      "        [9.9987e-01, 5.5732e-06, 9.9914e-01, 6.2885e-06, 3.1729e-10, 1.0000e+00,\n",
      "         1.1062e-06, 9.7238e-01, 1.0000e+00, 1.1796e-15],\n",
      "        [9.9930e-01, 3.3239e-01, 6.3110e-01, 8.1121e-04, 1.2010e-12, 1.0000e+00,\n",
      "         7.8758e-03, 9.9790e-01, 1.0000e+00, 2.4584e-08],\n",
      "        [9.9998e-01, 7.2593e-02, 9.2839e-01, 8.3120e-03, 8.1495e-13, 1.0000e+00,\n",
      "         3.1965e-09, 9.9981e-01, 9.2403e-01, 2.8616e-11],\n",
      "        [9.9998e-01, 9.9595e-01, 9.9796e-01, 1.2702e-05, 7.0867e-15, 1.0000e+00,\n",
      "         8.6183e-05, 9.8457e-01, 9.9970e-01, 3.0742e-07],\n",
      "        [9.9999e-01, 7.6126e-01, 9.9435e-01, 1.7679e-07, 3.6342e-13, 1.0000e+00,\n",
      "         5.3697e-02, 9.9235e-01, 9.9998e-01, 7.0220e-07],\n",
      "        [1.0000e+00, 9.9919e-01, 9.9772e-01, 1.5864e-04, 1.4018e-13, 1.0000e+00,\n",
      "         1.4270e-03, 9.9821e-01, 9.1400e-01, 6.1190e-09],\n",
      "        [9.9996e-01, 9.0018e-01, 9.9954e-01, 2.8144e-02, 6.1268e-14, 1.0000e+00,\n",
      "         4.6320e-05, 9.5992e-01, 1.5800e-02, 1.4558e-08]])\n"
     ]
    }
   ],
   "source": [
    "## Your solution\n",
    "def activation(x):\n",
    "    return 1 / (1 + torch.exp(-x))\n",
    "\n",
    "# Flatten the input images\n",
    "flatten_images = torch.flatten(images, start_dim=1)\n",
    "\n",
    "# Creating parameters\n",
    "w1 = torch.randn(784, 256)\n",
    "b1 = torch.randn(256)\n",
    "\n",
    "w2 = torch.randn(256, 10)\n",
    "b2 = torch.randn(10)\n",
    "\n",
    "h = activation(torch.mm(flatten_images, w1) + b1)\n",
    "\n",
    "# output of your network, should have shape (64,10)\n",
    "out = activation(torch.mm(h, w2) + b2)\n",
    "print(out)"
   ]
  },
  {
   "cell_type": "markdown",
   "metadata": {},
   "source": [
    "Now we have 10 outputs for our network. We want to pass in an image to our network and get out a probability distribution over the classes that tells us the likely class(es) the image belongs to. Something that looks like this:\n",
    "<img src='assets/image_distribution.png' width=500px>\n",
    "\n",
    "Here we see that the probability for each class is roughly the same. This is representing an untrained network, it hasn't seen any data yet so it just returns a uniform distribution with equal probabilities for each class.\n",
    "\n",
    "To calculate this probability distribution, we often use the [**softmax** function](https://en.wikipedia.org/wiki/Softmax_function). Mathematically this looks like\n",
    "\n",
    "$$\n",
    "\\Large \\sigma(x_i) = \\cfrac{e^{x_i}}{\\sum_k^K{e^{x_k}}}\n",
    "$$\n",
    "\n",
    "What this does is squish each input $x_i$ between 0 and 1 and normalizes the values to give you a proper probability distribution where the probabilites sum up to one.\n",
    "\n",
    "> **Exercise:** Implement a function `softmax` that performs the softmax calculation and returns probability distributions for each example in the batch. Note that you'll need to pay attention to the shapes when doing this. If you have a tensor `a` with shape `(64, 10)` and a tensor `b` with shape `(64,)`, doing `a/b` will give you an error because PyTorch will try to do the division across the columns (called broadcasting) but you'll get a size mismatch. The way to think about this is for each of the 64 examples, you only want to divide by one value, the sum in the denominator. So you need `b` to have a shape of `(64, 1)`. This way PyTorch will divide the 10 values in each row of `a` by the one value in each row of `b`. Pay attention to how you take the sum as well. You'll need to define the `dim` keyword in `torch.sum`. Setting `dim=0` takes the sum across the rows while `dim=1` takes the sum across the columns."
   ]
  },
  {
   "cell_type": "code",
   "execution_count": 14,
   "metadata": {
    "collapsed": true,
    "ExecuteTime": {
     "end_time": "2024-12-31T21:08:14.456977500Z",
     "start_time": "2024-12-31T21:08:14.323980700Z"
    }
   },
   "outputs": [
    {
     "name": "stdout",
     "output_type": "stream",
     "text": [
      "torch.Size([64, 10])\n",
      "tensor([1.0000, 1.0000, 1.0000, 1.0000, 1.0000, 1.0000, 1.0000, 1.0000, 1.0000,\n",
      "        1.0000, 1.0000, 1.0000, 1.0000, 1.0000, 1.0000, 1.0000, 1.0000, 1.0000,\n",
      "        1.0000, 1.0000, 1.0000, 1.0000, 1.0000, 1.0000, 1.0000, 1.0000, 1.0000,\n",
      "        1.0000, 1.0000, 1.0000, 1.0000, 1.0000, 1.0000, 1.0000, 1.0000, 1.0000,\n",
      "        1.0000, 1.0000, 1.0000, 1.0000, 1.0000, 1.0000, 1.0000, 1.0000, 1.0000,\n",
      "        1.0000, 1.0000, 1.0000, 1.0000, 1.0000, 1.0000, 1.0000, 1.0000, 1.0000,\n",
      "        1.0000, 1.0000, 1.0000, 1.0000, 1.0000, 1.0000, 1.0000, 1.0000, 1.0000,\n",
      "        1.0000])\n"
     ]
    }
   ],
   "source": [
    "def softmax(x):\n",
    "    ## TODO: Implement the softmax function here\n",
    "    \n",
    "    return torch.exp(x) / torch.sum(torch.exp(x), dim=1, keepdim=True)\n",
    "\n",
    "# Here, out should be the output of the network in the previous excercise with shape (64,10)\n",
    "probabilities = softmax(out)\n",
    "\n",
    "# Does it have the right shape? Should be (64, 10)\n",
    "print(probabilities.shape)\n",
    "# Does it sum to 1?\n",
    "print(probabilities.sum(dim=1))"
   ]
  },
  {
   "cell_type": "markdown",
   "metadata": {},
   "source": [
    "## Building networks with PyTorch\n",
    "\n",
    "PyTorch provides a module `nn` that makes building networks much simpler. Here I'll show you how to build the same one as above with 784 inputs, 256 hidden units, 10 output units and a softmax output."
   ]
  },
  {
   "cell_type": "code",
   "execution_count": 15,
   "metadata": {
    "collapsed": true,
    "ExecuteTime": {
     "end_time": "2024-12-31T21:18:04.893937500Z",
     "start_time": "2024-12-31T21:18:04.877685800Z"
    }
   },
   "outputs": [],
   "source": [
    "from torch import nn"
   ]
  },
  {
   "cell_type": "code",
   "execution_count": 16,
   "metadata": {
    "collapsed": true,
    "ExecuteTime": {
     "end_time": "2024-12-31T21:18:05.998529100Z",
     "start_time": "2024-12-31T21:18:05.945412600Z"
    }
   },
   "outputs": [],
   "source": [
    "class Network(nn.Module):\n",
    "    def __init__(self):\n",
    "        super().__init__()\n",
    "        \n",
    "        # Inputs to hidden layer linear transformation\n",
    "        self.hidden = nn.Linear(784, 256)\n",
    "        # Output layer, 10 units - one for each digit\n",
    "        self.output = nn.Linear(256, 10)\n",
    "        \n",
    "        # Define sigmoid activation and softmax output \n",
    "        self.sigmoid = nn.Sigmoid()\n",
    "        self.softmax = nn.Softmax(dim=1)\n",
    "        \n",
    "    def forward(self, x):\n",
    "        # Pass the input tensor through each of our operations\n",
    "        x = self.hidden(x)\n",
    "        x = self.sigmoid(x)\n",
    "        x = self.output(x)\n",
    "        x = self.softmax(x)\n",
    "        \n",
    "        return x"
   ]
  },
  {
   "cell_type": "markdown",
   "metadata": {},
   "source": [
    "Let's go through this bit by bit.\n",
    "\n",
    "```python\n",
    "class Network(nn.Module):\n",
    "```\n",
    "\n",
    "Here we're inheriting from `nn.Module`. Combined with `super().__init__()` this creates a class that tracks the architecture and provides a lot of useful methods and attributes. It is mandatory to inherit from `nn.Module` when you're creating a class for your network. The name of the class itself can be anything.\n",
    "\n",
    "```python\n",
    "self.hidden = nn.Linear(784, 256)\n",
    "```\n",
    "\n",
    "This line creates a module for a linear transformation, $x\\mathbf{W} + b$, with 784 inputs and 256 outputs and assigns it to `self.hidden`. The module automatically creates the weight and bias tensors which we'll use in the `forward` method. You can access the weight and bias tensors once the network (`net`) is created with `net.hidden.weight` and `net.hidden.bias`.\n",
    "\n",
    "```python\n",
    "self.output = nn.Linear(256, 10)\n",
    "```\n",
    "\n",
    "Similarly, this creates another linear transformation with 256 inputs and 10 outputs.\n",
    "\n",
    "```python\n",
    "self.sigmoid = nn.Sigmoid()\n",
    "self.softmax = nn.Softmax(dim=1)\n",
    "```\n",
    "\n",
    "Here I defined operations for the sigmoid activation and softmax output. Setting `dim=1` in `nn.Softmax(dim=1)` calculates softmax across the columns.\n",
    "\n",
    "```python\n",
    "def forward(self, x):\n",
    "```\n",
    "\n",
    "PyTorch networks created with `nn.Module` must have a `forward` method defined. It takes in a tensor `x` and passes it through the operations you defined in the `__init__` method.\n",
    "\n",
    "```python\n",
    "x = self.hidden(x)\n",
    "x = self.sigmoid(x)\n",
    "x = self.output(x)\n",
    "x = self.softmax(x)\n",
    "```\n",
    "\n",
    "Here the input tensor `x` is passed through each operation and reassigned to `x`. We can see that the input tensor goes through the hidden layer, then a sigmoid function, then the output layer, and finally the softmax function. It doesn't matter what you name the variables here, as long as the inputs and outputs of the operations match the network architecture you want to build. The order in which you define things in the `__init__` method doesn't matter, but you'll need to sequence the operations correctly in the `forward` method.\n",
    "\n",
    "Now we can create a `Network` object."
   ]
  },
  {
   "cell_type": "code",
   "execution_count": 17,
   "metadata": {
    "collapsed": true,
    "ExecuteTime": {
     "end_time": "2024-12-31T21:18:45.020730700Z",
     "start_time": "2024-12-31T21:18:44.942318100Z"
    }
   },
   "outputs": [
    {
     "data": {
      "text/plain": "Network(\n  (hidden): Linear(in_features=784, out_features=256, bias=True)\n  (output): Linear(in_features=256, out_features=10, bias=True)\n  (sigmoid): Sigmoid()\n  (softmax): Softmax(dim=1)\n)"
     },
     "execution_count": 17,
     "metadata": {},
     "output_type": "execute_result"
    }
   ],
   "source": [
    "# Create the network and look at it's text representation\n",
    "model = Network()\n",
    "model"
   ]
  },
  {
   "cell_type": "markdown",
   "metadata": {},
   "source": [
    "You can define the network somewhat more concisely and clearly using the `torch.nn.functional` module. This is the most common way you'll see networks defined as many operations are simple element-wise functions. We normally import this module as `F`, `import torch.nn.functional as F`."
   ]
  },
  {
   "cell_type": "code",
   "execution_count": 18,
   "metadata": {
    "collapsed": true,
    "ExecuteTime": {
     "end_time": "2024-12-31T21:18:55.381026100Z",
     "start_time": "2024-12-31T21:18:55.361900Z"
    }
   },
   "outputs": [],
   "source": [
    "import torch.nn.functional as F\n",
    "\n",
    "class Network(nn.Module):\n",
    "    def __init__(self):\n",
    "        super().__init__()\n",
    "        # Inputs to hidden layer linear transformation\n",
    "        self.hidden = nn.Linear(784, 256)\n",
    "        # Output layer, 10 units - one for each digit\n",
    "        self.output = nn.Linear(256, 10)\n",
    "        \n",
    "    def forward(self, x):\n",
    "        # Hidden layer with sigmoid activation\n",
    "        x = F.sigmoid(self.hidden(x))\n",
    "        # Output layer with softmax activation\n",
    "        x = F.softmax(self.output(x), dim=1)\n",
    "        \n",
    "        return x"
   ]
  },
  {
   "cell_type": "markdown",
   "metadata": {},
   "source": [
    "### Activation functions\n",
    "\n",
    "So far we've only been looking at the sigmoid activation function, but in general any function can be used as an activation function. The only requirement is that for a network to approximate a non-linear function, the activation functions must be non-linear. Here are a few more examples of common activation functions: Tanh (hyperbolic tangent), and ReLU (rectified linear unit).\n",
    "\n",
    "<img src=\"assets/activation.png\" width=700px>\n",
    "\n",
    "In practice, the ReLU function is used almost exclusively as the activation function for hidden layers."
   ]
  },
  {
   "cell_type": "markdown",
   "metadata": {},
   "source": [
    "### Your Turn to Build a Network\n",
    "\n",
    "<img src=\"assets/mlp_mnist.png\" width=600px>\n",
    "\n",
    "> **Exercise:** Create a network with 784 input units, a hidden layer with 128 units and a ReLU activation, then a hidden layer with 64 units and a ReLU activation, and finally an output layer with a softmax activation as shown above. You can use a ReLU activation with the `nn.ReLU` module or `F.relu` function.\n",
    "\n",
    "It's good practice to name your layers by their type of network, for instance 'fc' to represent a fully-connected layer. As you code your solution, use `fc1`, `fc2`, and `fc3` as your layer names."
   ]
  },
  {
   "cell_type": "code",
   "execution_count": 19,
   "metadata": {
    "collapsed": true,
    "scrolled": true,
    "ExecuteTime": {
     "end_time": "2024-12-31T21:28:24.552740600Z",
     "start_time": "2024-12-31T21:28:24.518391200Z"
    }
   },
   "outputs": [
    {
     "data": {
      "text/plain": "Network(\n  (fc1): Linear(in_features=784, out_features=128, bias=True)\n  (fc2): Linear(in_features=128, out_features=64, bias=True)\n  (fc3): Linear(in_features=64, out_features=10, bias=True)\n)"
     },
     "execution_count": 19,
     "metadata": {},
     "output_type": "execute_result"
    }
   ],
   "source": [
    "## Your solution here\n",
    "class Network(nn.Module):\n",
    "    def __init__(self):\n",
    "        super().__init__()\n",
    "        \n",
    "        # Inputs to hidden layer linear transformation\n",
    "        self.fc1 = nn.Linear(784, 128)\n",
    "        \n",
    "        # Second hidden layer\n",
    "        self.fc2 = nn.Linear(128, 64)\n",
    "        \n",
    "        # Output layer, 10 units - one for each digit\n",
    "        self.fc3 = nn.Linear(64, 10)\n",
    "        \n",
    "    def forward(self, x):\n",
    "        # Hidden layers with relu activation\n",
    "        x = F.relu(self.fc1(x))\n",
    "        x = F.relu(self.fc2(x))\n",
    "        \n",
    "        # Output layer with softmax activation\n",
    "        x = F.softmax(self.fc3(x), dim=1)\n",
    "        \n",
    "        return x\n",
    "  \n",
    "    \n",
    "model = Network()\n",
    "model"
   ]
  },
  {
   "cell_type": "markdown",
   "metadata": {},
   "source": [
    "### Initializing weights and biases\n",
    "\n",
    "The weights and such are automatically initialized for you, but it's possible to customize how they are initialized. The weights and biases are tensors attached to the layer you defined, you can get them with `model.fc1.weight` for instance."
   ]
  },
  {
   "cell_type": "code",
   "execution_count": 20,
   "metadata": {
    "collapsed": true,
    "ExecuteTime": {
     "end_time": "2024-12-31T21:29:27.397919500Z",
     "start_time": "2024-12-31T21:29:27.357527100Z"
    }
   },
   "outputs": [
    {
     "name": "stdout",
     "output_type": "stream",
     "text": [
      "Parameter containing:\n",
      "tensor([[-0.0334,  0.0212,  0.0306,  ..., -0.0008,  0.0274,  0.0072],\n",
      "        [-0.0017, -0.0216,  0.0149,  ...,  0.0266,  0.0237,  0.0338],\n",
      "        [-0.0038, -0.0257, -0.0110,  ...,  0.0210, -0.0224,  0.0073],\n",
      "        ...,\n",
      "        [ 0.0355,  0.0313, -0.0048,  ...,  0.0295, -0.0032,  0.0211],\n",
      "        [ 0.0326,  0.0339, -0.0273,  ...,  0.0104, -0.0293, -0.0058],\n",
      "        [-0.0267,  0.0296, -0.0190,  ..., -0.0289, -0.0043, -0.0158]],\n",
      "       requires_grad=True)\n",
      "Parameter containing:\n",
      "tensor([-0.0161,  0.0113,  0.0237,  0.0300, -0.0137,  0.0203, -0.0220, -0.0085,\n",
      "         0.0105,  0.0056,  0.0114, -0.0239,  0.0046, -0.0147,  0.0120, -0.0060,\n",
      "        -0.0070,  0.0005,  0.0053,  0.0298, -0.0343,  0.0303, -0.0042,  0.0108,\n",
      "        -0.0043,  0.0282,  0.0025,  0.0092, -0.0340, -0.0139, -0.0158, -0.0039,\n",
      "        -0.0103, -0.0102,  0.0202, -0.0030,  0.0116,  0.0104,  0.0169,  0.0124,\n",
      "        -0.0334, -0.0112,  0.0268, -0.0216, -0.0139,  0.0086, -0.0339,  0.0037,\n",
      "         0.0251,  0.0229,  0.0080, -0.0255, -0.0097,  0.0027, -0.0178,  0.0173,\n",
      "         0.0333, -0.0268, -0.0108, -0.0161,  0.0190,  0.0229,  0.0110, -0.0270,\n",
      "         0.0177,  0.0060, -0.0031, -0.0049, -0.0188,  0.0053, -0.0206,  0.0033,\n",
      "        -0.0171, -0.0286, -0.0344,  0.0350, -0.0303, -0.0157,  0.0262, -0.0287,\n",
      "         0.0220, -0.0180, -0.0204,  0.0073,  0.0055,  0.0061, -0.0173,  0.0234,\n",
      "         0.0070, -0.0022,  0.0162,  0.0181,  0.0291,  0.0341,  0.0352,  0.0230,\n",
      "         0.0042,  0.0194, -0.0357,  0.0107,  0.0162, -0.0325,  0.0138,  0.0247,\n",
      "         0.0135, -0.0291,  0.0235, -0.0046, -0.0131, -0.0179, -0.0068, -0.0008,\n",
      "         0.0178,  0.0038, -0.0291,  0.0082,  0.0350,  0.0262, -0.0167, -0.0121,\n",
      "        -0.0285,  0.0075,  0.0209, -0.0129, -0.0160, -0.0324, -0.0317,  0.0033],\n",
      "       requires_grad=True)\n"
     ]
    }
   ],
   "source": [
    "print(model.fc1.weight)\n",
    "print(model.fc1.bias)"
   ]
  },
  {
   "cell_type": "markdown",
   "metadata": {},
   "source": [
    "For custom initialization, we want to modify these tensors in place. These are actually autograd *Variables*, so we need to get back the actual tensors with `model.fc1.weight.data`. Once we have the tensors, we can fill them with zeros (for biases) or random normal values."
   ]
  },
  {
   "cell_type": "code",
   "execution_count": 21,
   "metadata": {
    "collapsed": true,
    "ExecuteTime": {
     "end_time": "2024-12-31T21:29:35.604456500Z",
     "start_time": "2024-12-31T21:29:35.558606Z"
    }
   },
   "outputs": [
    {
     "data": {
      "text/plain": "tensor([0., 0., 0., 0., 0., 0., 0., 0., 0., 0., 0., 0., 0., 0., 0., 0., 0., 0., 0., 0., 0., 0., 0., 0.,\n        0., 0., 0., 0., 0., 0., 0., 0., 0., 0., 0., 0., 0., 0., 0., 0., 0., 0., 0., 0., 0., 0., 0., 0.,\n        0., 0., 0., 0., 0., 0., 0., 0., 0., 0., 0., 0., 0., 0., 0., 0., 0., 0., 0., 0., 0., 0., 0., 0.,\n        0., 0., 0., 0., 0., 0., 0., 0., 0., 0., 0., 0., 0., 0., 0., 0., 0., 0., 0., 0., 0., 0., 0., 0.,\n        0., 0., 0., 0., 0., 0., 0., 0., 0., 0., 0., 0., 0., 0., 0., 0., 0., 0., 0., 0., 0., 0., 0., 0.,\n        0., 0., 0., 0., 0., 0., 0., 0.])"
     },
     "execution_count": 21,
     "metadata": {},
     "output_type": "execute_result"
    }
   ],
   "source": [
    "# Set biases to all zeros\n",
    "model.fc1.bias.data.fill_(0)"
   ]
  },
  {
   "cell_type": "code",
   "execution_count": 22,
   "metadata": {
    "collapsed": true,
    "ExecuteTime": {
     "end_time": "2024-12-31T21:29:38.993263900Z",
     "start_time": "2024-12-31T21:29:38.933874400Z"
    }
   },
   "outputs": [
    {
     "data": {
      "text/plain": "tensor([[-0.0010, -0.0224,  0.0050,  ...,  0.0044, -0.0171, -0.0098],\n        [-0.0012,  0.0036, -0.0071,  ...,  0.0045, -0.0006,  0.0133],\n        [ 0.0128, -0.0151,  0.0026,  ..., -0.0039, -0.0229, -0.0139],\n        ...,\n        [-0.0020,  0.0013,  0.0025,  ..., -0.0062, -0.0141,  0.0089],\n        [ 0.0049,  0.0005,  0.0076,  ..., -0.0002,  0.0042, -0.0007],\n        [-0.0202,  0.0120,  0.0087,  ..., -0.0057,  0.0139, -0.0042]])"
     },
     "execution_count": 22,
     "metadata": {},
     "output_type": "execute_result"
    }
   ],
   "source": [
    "# sample from random normal with standard dev = 0.01\n",
    "model.fc1.weight.data.normal_(std=0.01)"
   ]
  },
  {
   "cell_type": "markdown",
   "metadata": {},
   "source": [
    "### Forward pass\n",
    "\n",
    "Now that we have a network, let's see what happens when we pass in an image."
   ]
  },
  {
   "cell_type": "code",
   "execution_count": 25,
   "metadata": {
    "collapsed": true,
    "ExecuteTime": {
     "end_time": "2024-12-31T21:33:15.688054900Z",
     "start_time": "2024-12-31T21:33:14.021586800Z"
    }
   },
   "outputs": [
    {
     "data": {
      "text/plain": "<Figure size 600x900 with 2 Axes>",
      "image/png": "[encoded data removed]"
     },
     "metadata": {
      "image/png": {
       "width": 589,
       "height": 327
      }
     },
     "output_type": "display_data"
    }
   ],
   "source": [
    "# Grab some data \n",
    "dataiter = iter(trainloader)\n",
    "images, labels = next(dataiter)\n",
    "\n",
    "# Resize images into a 1D vector, new shape is (batch size, color channels, image pixels) \n",
    "images.resize_(64, 1, 784)\n",
    "# or images.resize_(images.shape[0], 1, 784) to automatically get batch size\n",
    "\n",
    "# Forward pass through the network\n",
    "img_idx = 0\n",
    "ps = model.forward(images[img_idx,:])\n",
    "\n",
    "img = images[img_idx]\n",
    "helper.view_classify(img.view(1, 28, 28), ps)"
   ]
  },
  {
   "cell_type": "markdown",
   "metadata": {},
   "source": [
    "As you can see above, our network has basically no idea what this digit is. It's because we haven't trained it yet, all the weights are random!\n",
    "\n",
    "### Using `nn.Sequential`\n",
    "\n",
    "PyTorch provides a convenient way to build networks like this where a tensor is passed sequentially through operations, `nn.Sequential` ([documentation](https://pytorch.org/docs/master/nn.html#torch.nn.Sequential)). Using this to build the equivalent network:"
   ]
  },
  {
   "cell_type": "code",
   "execution_count": 26,
   "metadata": {
    "collapsed": true,
    "ExecuteTime": {
     "end_time": "2024-12-31T21:33:25.161748Z",
     "start_time": "2024-12-31T21:33:24.843739100Z"
    }
   },
   "outputs": [
    {
     "name": "stdout",
     "output_type": "stream",
     "text": [
      "Sequential(\n",
      "  (0): Linear(in_features=784, out_features=128, bias=True)\n",
      "  (1): ReLU()\n",
      "  (2): Linear(in_features=128, out_features=64, bias=True)\n",
      "  (3): ReLU()\n",
      "  (4): Linear(in_features=64, out_features=10, bias=True)\n",
      "  (5): Softmax(dim=1)\n",
      ")\n"
     ]
    },
    {
     "data": {
      "text/plain": "<Figure size 600x900 with 2 Axes>",
      "image/png": "[encoded data removed]"
     },
     "metadata": {
      "image/png": {
       "width": 589,
       "height": 327
      }
     },
     "output_type": "display_data"
    }
   ],
   "source": [
    "# Hyperparameters for our network\n",
    "input_size = 784\n",
    "hidden_sizes = [128, 64]\n",
    "output_size = 10\n",
    "\n",
    "# Build a feed-forward network\n",
    "model = nn.Sequential(nn.Linear(input_size, hidden_sizes[0]),\n",
    "                      nn.ReLU(),\n",
    "                      nn.Linear(hidden_sizes[0], hidden_sizes[1]),\n",
    "                      nn.ReLU(),\n",
    "                      nn.Linear(hidden_sizes[1], output_size),\n",
    "                      nn.Softmax(dim=1))\n",
    "print(model)\n",
    "\n",
    "# Forward pass through the network and display output\n",
    "images, labels = next(iter(trainloader))\n",
    "images.resize_(images.shape[0], 1, 784)\n",
    "ps = model.forward(images[0,:])\n",
    "helper.view_classify(images[0].view(1, 28, 28), ps)"
   ]
  },
  {
   "cell_type": "markdown",
   "metadata": {},
   "source": [
    "Here our model is the same as before: 784 input units, a hidden layer with 128 units, ReLU activation, 64 unit hidden layer, another ReLU, then the output layer with 10 units, and the softmax output.\n",
    "\n",
    "The operations are available by passing in the appropriate index. For example, if you want to get first Linear operation and look at the weights, you'd use `model[0]`."
   ]
  },
  {
   "cell_type": "code",
   "execution_count": 27,
   "metadata": {
    "collapsed": true,
    "ExecuteTime": {
     "end_time": "2024-12-31T21:33:36.731112300Z",
     "start_time": "2024-12-31T21:33:36.717220900Z"
    }
   },
   "outputs": [
    {
     "name": "stdout",
     "output_type": "stream",
     "text": [
      "Linear(in_features=784, out_features=128, bias=True)\n"
     ]
    },
    {
     "data": {
      "text/plain": "Parameter containing:\ntensor([[ 0.0347, -0.0277,  0.0286,  ..., -0.0329,  0.0059,  0.0257],\n        [ 0.0348,  0.0106,  0.0110,  ..., -0.0071, -0.0289, -0.0034],\n        [-0.0338,  0.0047,  0.0298,  ..., -0.0302, -0.0351,  0.0147],\n        ...,\n        [-0.0316,  0.0192, -0.0148,  ..., -0.0124,  0.0062,  0.0104],\n        [-0.0133, -0.0210, -0.0151,  ..., -0.0270, -0.0094, -0.0318],\n        [-0.0346,  0.0301,  0.0288,  ...,  0.0014,  0.0148,  0.0105]],\n       requires_grad=True)"
     },
     "execution_count": 27,
     "metadata": {},
     "output_type": "execute_result"
    }
   ],
   "source": [
    "print(model[0])\n",
    "model[0].weight"
   ]
  },
  {
   "cell_type": "markdown",
   "metadata": {},
   "source": [
    "You can also pass in an `OrderedDict` to name the individual layers and operations, instead of using incremental integers. Note that dictionary keys must be unique, so _each operation must have a different name_."
   ]
  },
  {
   "cell_type": "code",
   "execution_count": 28,
   "metadata": {
    "collapsed": true,
    "ExecuteTime": {
     "end_time": "2024-12-31T21:33:42.479392300Z",
     "start_time": "2024-12-31T21:33:42.444556400Z"
    }
   },
   "outputs": [
    {
     "data": {
      "text/plain": "Sequential(\n  (fc1): Linear(in_features=784, out_features=128, bias=True)\n  (relu1): ReLU()\n  (fc2): Linear(in_features=128, out_features=64, bias=True)\n  (relu2): ReLU()\n  (output): Linear(in_features=64, out_features=10, bias=True)\n  (softmax): Softmax(dim=1)\n)"
     },
     "execution_count": 28,
     "metadata": {},
     "output_type": "execute_result"
    }
   ],
   "source": [
    "from collections import OrderedDict\n",
    "model = nn.Sequential(OrderedDict([\n",
    "                      ('fc1', nn.Linear(input_size, hidden_sizes[0])),\n",
    "                      ('relu1', nn.ReLU()),\n",
    "                      ('fc2', nn.Linear(hidden_sizes[0], hidden_sizes[1])),\n",
    "                      ('relu2', nn.ReLU()),\n",
    "                      ('output', nn.Linear(hidden_sizes[1], output_size)),\n",
    "                      ('softmax', nn.Softmax(dim=1))]))\n",
    "model"
   ]
  },
  {
   "cell_type": "markdown",
   "metadata": {},
   "source": [
    "Now you can access layers either by integer or the name"
   ]
  },
  {
   "cell_type": "code",
   "execution_count": 29,
   "metadata": {
    "collapsed": true,
    "ExecuteTime": {
     "end_time": "2024-12-31T21:33:46.201268200Z",
     "start_time": "2024-12-31T21:33:46.193766300Z"
    }
   },
   "outputs": [
    {
     "name": "stdout",
     "output_type": "stream",
     "text": [
      "Linear(in_features=784, out_features=128, bias=True)\n",
      "Linear(in_features=784, out_features=128, bias=True)\n"
     ]
    }
   ],
   "source": [
    "print(model[0])\n",
    "print(model.fc1)"
   ]
  },
  {
   "cell_type": "markdown",
   "metadata": {},
   "source": [
    "In the next notebook, we'll see how we can train a neural network to accuractly predict the numbers appearing in the MNIST images."
   ]
  }
 ],
 "metadata": {
  "kernelspec": {
   "display_name": "Python [default]",
   "language": "python",
   "name": "python3"
  },
  "language_info": {
   "codemirror_mode": {
    "name": "ipython",
    "version": 3
   },
   "file_extension": ".py",
   "mimetype": "text/x-python",
   "name": "python",
   "nbconvert_exporter": "python",
   "pygments_lexer": "ipython3",
   "version": "3.6.4"
  }
 },
 "nbformat": 4,
 "nbformat_minor": 2
}
